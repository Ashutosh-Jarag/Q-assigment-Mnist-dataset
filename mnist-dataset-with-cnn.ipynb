{
 "cells": [
  {
   "cell_type": "markdown",
   "id": "47a4bd3d",
   "metadata": {
    "papermill": {
     "duration": 0.008219,
     "end_time": "2024-11-17T17:42:41.031990",
     "exception": false,
     "start_time": "2024-11-17T17:42:41.023771",
     "status": "completed"
    },
    "tags": []
   },
   "source": [
    "**Import Libraries**"
   ]
  },
  {
   "cell_type": "code",
   "execution_count": 1,
   "id": "7dd544a5",
   "metadata": {
    "execution": {
     "iopub.execute_input": "2024-11-17T17:42:41.050186Z",
     "iopub.status.busy": "2024-11-17T17:42:41.049750Z",
     "iopub.status.idle": "2024-11-17T17:42:52.999141Z",
     "shell.execute_reply": "2024-11-17T17:42:52.998326Z"
    },
    "papermill": {
     "duration": 11.961962,
     "end_time": "2024-11-17T17:42:53.001575",
     "exception": false,
     "start_time": "2024-11-17T17:42:41.039613",
     "status": "completed"
    },
    "tags": []
   },
   "outputs": [],
   "source": [
    "import tensorflow as tf \n",
    "import tensorflow_datasets as tfds \n",
    "from tensorflow import keras\n",
    "from keras import Sequential"
   ]
  },
  {
   "cell_type": "markdown",
   "id": "4810ec65",
   "metadata": {
    "papermill": {
     "duration": 0.00763,
     "end_time": "2024-11-17T17:42:53.016845",
     "exception": false,
     "start_time": "2024-11-17T17:42:53.009215",
     "status": "completed"
    },
    "tags": []
   },
   "source": [
    "**Load Data**"
   ]
  },
  {
   "cell_type": "code",
   "execution_count": 2,
   "id": "db9ca120",
   "metadata": {
    "execution": {
     "iopub.execute_input": "2024-11-17T17:42:53.034369Z",
     "iopub.status.busy": "2024-11-17T17:42:53.033656Z",
     "iopub.status.idle": "2024-11-17T17:42:53.038026Z",
     "shell.execute_reply": "2024-11-17T17:42:53.037212Z"
    },
    "papermill": {
     "duration": 0.01568,
     "end_time": "2024-11-17T17:42:53.039923",
     "exception": false,
     "start_time": "2024-11-17T17:42:53.024243",
     "status": "completed"
    },
    "tags": []
   },
   "outputs": [],
   "source": [
    "BUFFER_SIZE = 70000\n",
    "BATCH_SIZE = 128 \n",
    "NUM_EPOCHS = 20"
   ]
  },
  {
   "cell_type": "code",
   "execution_count": 3,
   "id": "e4da4500",
   "metadata": {
    "execution": {
     "iopub.execute_input": "2024-11-17T17:42:53.055613Z",
     "iopub.status.busy": "2024-11-17T17:42:53.055276Z",
     "iopub.status.idle": "2024-11-17T17:42:55.809995Z",
     "shell.execute_reply": "2024-11-17T17:42:55.808950Z"
    },
    "papermill": {
     "duration": 2.765212,
     "end_time": "2024-11-17T17:42:55.812258",
     "exception": false,
     "start_time": "2024-11-17T17:42:53.047046",
     "status": "completed"
    },
    "tags": []
   },
   "outputs": [
    {
     "name": "stdout",
     "output_type": "stream",
     "text": [
      "\u001b[1mDownloading and preparing dataset 11.06 MiB (download: 11.06 MiB, generated: 21.00 MiB, total: 32.06 MiB) to /root/tensorflow_datasets/mnist/3.0.1...\u001b[0m\n"
     ]
    },
    {
     "data": {
      "application/vnd.jupyter.widget-view+json": {
       "model_id": "6678c19eb63c4eeabb1b723b503eb634",
       "version_major": 2,
       "version_minor": 0
      },
      "text/plain": [
       "Dl Completed...:   0%|          | 0/5 [00:00<?, ? file/s]"
      ]
     },
     "metadata": {},
     "output_type": "display_data"
    },
    {
     "name": "stdout",
     "output_type": "stream",
     "text": [
      "\u001b[1mDataset mnist downloaded and prepared to /root/tensorflow_datasets/mnist/3.0.1. Subsequent calls will reuse this data.\u001b[0m\n"
     ]
    }
   ],
   "source": [
    "mnist_dataset, mnist_info = tfds.load(name='mnist', with_info=True, as_supervised=True)"
   ]
  },
  {
   "cell_type": "code",
   "execution_count": 4,
   "id": "e3ad1922",
   "metadata": {
    "execution": {
     "iopub.execute_input": "2024-11-17T17:42:55.833279Z",
     "iopub.status.busy": "2024-11-17T17:42:55.832633Z",
     "iopub.status.idle": "2024-11-17T17:42:55.837061Z",
     "shell.execute_reply": "2024-11-17T17:42:55.836200Z"
    },
    "papermill": {
     "duration": 0.015739,
     "end_time": "2024-11-17T17:42:55.838967",
     "exception": false,
     "start_time": "2024-11-17T17:42:55.823228",
     "status": "completed"
    },
    "tags": []
   },
   "outputs": [],
   "source": [
    "mnist_train, mnist_test = mnist_dataset['train'], mnist_dataset['test']"
   ]
  },
  {
   "cell_type": "code",
   "execution_count": 5,
   "id": "88004088",
   "metadata": {
    "execution": {
     "iopub.execute_input": "2024-11-17T17:42:55.855618Z",
     "iopub.status.busy": "2024-11-17T17:42:55.855255Z",
     "iopub.status.idle": "2024-11-17T17:42:55.859579Z",
     "shell.execute_reply": "2024-11-17T17:42:55.858710Z"
    },
    "papermill": {
     "duration": 0.014873,
     "end_time": "2024-11-17T17:42:55.861562",
     "exception": false,
     "start_time": "2024-11-17T17:42:55.846689",
     "status": "completed"
    },
    "tags": []
   },
   "outputs": [],
   "source": [
    "def scale(image, label):\n",
    "    image = tf.cast(image, tf.float32)\n",
    "    image /= 255.\n",
    "\n",
    "    return image, label"
   ]
  },
  {
   "cell_type": "markdown",
   "id": "14f2dcf8",
   "metadata": {
    "papermill": {
     "duration": 0.007542,
     "end_time": "2024-11-17T17:42:55.876730",
     "exception": false,
     "start_time": "2024-11-17T17:42:55.869188",
     "status": "completed"
    },
    "tags": []
   },
   "source": [
    "**Split Data To Train, Validation and Test**"
   ]
  },
  {
   "cell_type": "code",
   "execution_count": 6,
   "id": "21b0bd23",
   "metadata": {
    "execution": {
     "iopub.execute_input": "2024-11-17T17:42:55.892895Z",
     "iopub.status.busy": "2024-11-17T17:42:55.892637Z",
     "iopub.status.idle": "2024-11-17T17:42:55.950843Z",
     "shell.execute_reply": "2024-11-17T17:42:55.950119Z"
    },
    "papermill": {
     "duration": 0.068505,
     "end_time": "2024-11-17T17:42:55.952822",
     "exception": false,
     "start_time": "2024-11-17T17:42:55.884317",
     "status": "completed"
    },
    "tags": []
   },
   "outputs": [],
   "source": [
    "train_and_validation_data = mnist_train.map(scale)\n",
    "test_data = mnist_test.map(scale)"
   ]
  },
  {
   "cell_type": "code",
   "execution_count": 7,
   "id": "5d634051",
   "metadata": {
    "execution": {
     "iopub.execute_input": "2024-11-17T17:42:55.970663Z",
     "iopub.status.busy": "2024-11-17T17:42:55.970163Z",
     "iopub.status.idle": "2024-11-17T17:42:55.980282Z",
     "shell.execute_reply": "2024-11-17T17:42:55.979481Z"
    },
    "papermill": {
     "duration": 0.021518,
     "end_time": "2024-11-17T17:42:55.982206",
     "exception": false,
     "start_time": "2024-11-17T17:42:55.960688",
     "status": "completed"
    },
    "tags": []
   },
   "outputs": [],
   "source": [
    "num_validation_samples = 0.1 * mnist_info.splits['train'].num_examples\n",
    "num_validation_samples = tf.cast(num_validation_samples, tf.int64)"
   ]
  },
  {
   "cell_type": "code",
   "execution_count": 8,
   "id": "8862180a",
   "metadata": {
    "execution": {
     "iopub.execute_input": "2024-11-17T17:42:55.999618Z",
     "iopub.status.busy": "2024-11-17T17:42:55.998605Z",
     "iopub.status.idle": "2024-11-17T17:42:56.003575Z",
     "shell.execute_reply": "2024-11-17T17:42:56.002840Z"
    },
    "papermill": {
     "duration": 0.01559,
     "end_time": "2024-11-17T17:42:56.005449",
     "exception": false,
     "start_time": "2024-11-17T17:42:55.989859",
     "status": "completed"
    },
    "tags": []
   },
   "outputs": [],
   "source": [
    "num_test_samples = 0.1 * mnist_info.splits['test'].num_examples\n",
    "num_test_samples = tf.cast(num_test_samples, tf.int64)"
   ]
  },
  {
   "cell_type": "code",
   "execution_count": 9,
   "id": "5a6f5070",
   "metadata": {
    "execution": {
     "iopub.execute_input": "2024-11-17T17:42:56.022115Z",
     "iopub.status.busy": "2024-11-17T17:42:56.021835Z",
     "iopub.status.idle": "2024-11-17T17:42:56.028120Z",
     "shell.execute_reply": "2024-11-17T17:42:56.027405Z"
    },
    "papermill": {
     "duration": 0.016978,
     "end_time": "2024-11-17T17:42:56.030115",
     "exception": false,
     "start_time": "2024-11-17T17:42:56.013137",
     "status": "completed"
    },
    "tags": []
   },
   "outputs": [],
   "source": [
    "train_and_validation_data = train_and_validation_data.shuffle(BUFFER_SIZE)"
   ]
  },
  {
   "cell_type": "code",
   "execution_count": 10,
   "id": "e205b81e",
   "metadata": {
    "execution": {
     "iopub.execute_input": "2024-11-17T17:42:56.048363Z",
     "iopub.status.busy": "2024-11-17T17:42:56.047648Z",
     "iopub.status.idle": "2024-11-17T17:42:56.057263Z",
     "shell.execute_reply": "2024-11-17T17:42:56.056407Z"
    },
    "papermill": {
     "duration": 0.02129,
     "end_time": "2024-11-17T17:42:56.059279",
     "exception": false,
     "start_time": "2024-11-17T17:42:56.037989",
     "status": "completed"
    },
    "tags": []
   },
   "outputs": [],
   "source": [
    "train_data = train_and_validation_data.skip(num_validation_samples)\n",
    "validation_data = train_and_validation_data.take(num_validation_samples)"
   ]
  },
  {
   "cell_type": "code",
   "execution_count": 11,
   "id": "2fbbd54a",
   "metadata": {
    "execution": {
     "iopub.execute_input": "2024-11-17T17:42:56.077176Z",
     "iopub.status.busy": "2024-11-17T17:42:56.076651Z",
     "iopub.status.idle": "2024-11-17T17:42:56.086501Z",
     "shell.execute_reply": "2024-11-17T17:42:56.085628Z"
    },
    "papermill": {
     "duration": 0.020847,
     "end_time": "2024-11-17T17:42:56.088453",
     "exception": false,
     "start_time": "2024-11-17T17:42:56.067606",
     "status": "completed"
    },
    "tags": []
   },
   "outputs": [],
   "source": [
    "train_data = train_data.batch(BATCH_SIZE)\n",
    "validation_data = validation_data.batch(num_validation_samples)\n",
    "test_data = test_data.batch(num_test_samples)"
   ]
  },
  {
   "cell_type": "markdown",
   "id": "553ec5a9",
   "metadata": {
    "papermill": {
     "duration": 0.00778,
     "end_time": "2024-11-17T17:42:56.104234",
     "exception": false,
     "start_time": "2024-11-17T17:42:56.096454",
     "status": "completed"
    },
    "tags": []
   },
   "source": [
    "**Creating the model and training it**"
   ]
  },
  {
   "cell_type": "code",
   "execution_count": 12,
   "id": "e1e02461",
   "metadata": {
    "execution": {
     "iopub.execute_input": "2024-11-17T17:42:56.128772Z",
     "iopub.status.busy": "2024-11-17T17:42:56.128272Z",
     "iopub.status.idle": "2024-11-17T17:42:56.290552Z",
     "shell.execute_reply": "2024-11-17T17:42:56.289434Z"
    },
    "papermill": {
     "duration": 0.17904,
     "end_time": "2024-11-17T17:42:56.292803",
     "exception": false,
     "start_time": "2024-11-17T17:42:56.113763",
     "status": "completed"
    },
    "tags": []
   },
   "outputs": [
    {
     "name": "stderr",
     "output_type": "stream",
     "text": [
      "/opt/conda/lib/python3.10/site-packages/keras/src/layers/convolutional/base_conv.py:107: UserWarning: Do not pass an `input_shape`/`input_dim` argument to a layer. When using Sequential models, prefer using an `Input(shape)` object as the first layer in the model instead.\n",
      "  super().__init__(activity_regularizer=activity_regularizer, **kwargs)\n"
     ]
    }
   ],
   "source": [
    "model = tf.keras.Sequential([\n",
    "    tf.keras.layers.Conv2D(50, 5, activation='relu', input_shape=(28,28,1)),\n",
    "    tf.keras.layers.MaxPooling2D(pool_size=(2,2)),\n",
    "    tf.keras.layers.Conv2D(50, 3, activation='relu'),\n",
    "    tf.keras.layers.MaxPooling2D(pool_size=(2,2)),\n",
    "    tf.keras.layers.Flatten(),\n",
    "    tf.keras.layers.Dense(10)\n",
    "])"
   ]
  },
  {
   "cell_type": "code",
   "execution_count": 13,
   "id": "648ee0f3",
   "metadata": {
    "execution": {
     "iopub.execute_input": "2024-11-17T17:42:56.310168Z",
     "iopub.status.busy": "2024-11-17T17:42:56.309374Z",
     "iopub.status.idle": "2024-11-17T17:42:56.330908Z",
     "shell.execute_reply": "2024-11-17T17:42:56.329991Z"
    },
    "papermill": {
     "duration": 0.032017,
     "end_time": "2024-11-17T17:42:56.332889",
     "exception": false,
     "start_time": "2024-11-17T17:42:56.300872",
     "status": "completed"
    },
    "tags": []
   },
   "outputs": [
    {
     "data": {
      "text/html": [
       "<pre style=\"white-space:pre;overflow-x:auto;line-height:normal;font-family:Menlo,'DejaVu Sans Mono',consolas,'Courier New',monospace\"><span style=\"font-weight: bold\">Model: \"sequential\"</span>\n",
       "</pre>\n"
      ],
      "text/plain": [
       "\u001b[1mModel: \"sequential\"\u001b[0m\n"
      ]
     },
     "metadata": {},
     "output_type": "display_data"
    },
    {
     "data": {
      "text/html": [
       "<pre style=\"white-space:pre;overflow-x:auto;line-height:normal;font-family:Menlo,'DejaVu Sans Mono',consolas,'Courier New',monospace\">┏━━━━━━━━━━━━━━━━━━━━━━━━━━━━━━━━┳━━━━━━━━━━━━━━━━━━━━━━━━━┳━━━━━━━━━━━━━━┓\n",
       "┃<span style=\"font-weight: bold\"> Layer (type)                   </span>┃<span style=\"font-weight: bold\"> Output Shape            </span>┃<span style=\"font-weight: bold\">      Param # </span>┃\n",
       "┡━━━━━━━━━━━━━━━━━━━━━━━━━━━━━━━━╇━━━━━━━━━━━━━━━━━━━━━━━━━╇━━━━━━━━━━━━━━┩\n",
       "│ conv2d (<span style=\"color: #0087ff; text-decoration-color: #0087ff\">Conv2D</span>)                │ (<span style=\"color: #00d7ff; text-decoration-color: #00d7ff\">None</span>, <span style=\"color: #00af00; text-decoration-color: #00af00\">24</span>, <span style=\"color: #00af00; text-decoration-color: #00af00\">24</span>, <span style=\"color: #00af00; text-decoration-color: #00af00\">50</span>)      │        <span style=\"color: #00af00; text-decoration-color: #00af00\">1,300</span> │\n",
       "├────────────────────────────────┼─────────────────────────┼──────────────┤\n",
       "│ max_pooling2d (<span style=\"color: #0087ff; text-decoration-color: #0087ff\">MaxPooling2D</span>)   │ (<span style=\"color: #00d7ff; text-decoration-color: #00d7ff\">None</span>, <span style=\"color: #00af00; text-decoration-color: #00af00\">12</span>, <span style=\"color: #00af00; text-decoration-color: #00af00\">12</span>, <span style=\"color: #00af00; text-decoration-color: #00af00\">50</span>)      │            <span style=\"color: #00af00; text-decoration-color: #00af00\">0</span> │\n",
       "├────────────────────────────────┼─────────────────────────┼──────────────┤\n",
       "│ conv2d_1 (<span style=\"color: #0087ff; text-decoration-color: #0087ff\">Conv2D</span>)              │ (<span style=\"color: #00d7ff; text-decoration-color: #00d7ff\">None</span>, <span style=\"color: #00af00; text-decoration-color: #00af00\">10</span>, <span style=\"color: #00af00; text-decoration-color: #00af00\">10</span>, <span style=\"color: #00af00; text-decoration-color: #00af00\">50</span>)      │       <span style=\"color: #00af00; text-decoration-color: #00af00\">22,550</span> │\n",
       "├────────────────────────────────┼─────────────────────────┼──────────────┤\n",
       "│ max_pooling2d_1 (<span style=\"color: #0087ff; text-decoration-color: #0087ff\">MaxPooling2D</span>) │ (<span style=\"color: #00d7ff; text-decoration-color: #00d7ff\">None</span>, <span style=\"color: #00af00; text-decoration-color: #00af00\">5</span>, <span style=\"color: #00af00; text-decoration-color: #00af00\">5</span>, <span style=\"color: #00af00; text-decoration-color: #00af00\">50</span>)        │            <span style=\"color: #00af00; text-decoration-color: #00af00\">0</span> │\n",
       "├────────────────────────────────┼─────────────────────────┼──────────────┤\n",
       "│ flatten (<span style=\"color: #0087ff; text-decoration-color: #0087ff\">Flatten</span>)              │ (<span style=\"color: #00d7ff; text-decoration-color: #00d7ff\">None</span>, <span style=\"color: #00af00; text-decoration-color: #00af00\">1250</span>)            │            <span style=\"color: #00af00; text-decoration-color: #00af00\">0</span> │\n",
       "├────────────────────────────────┼─────────────────────────┼──────────────┤\n",
       "│ dense (<span style=\"color: #0087ff; text-decoration-color: #0087ff\">Dense</span>)                  │ (<span style=\"color: #00d7ff; text-decoration-color: #00d7ff\">None</span>, <span style=\"color: #00af00; text-decoration-color: #00af00\">10</span>)              │       <span style=\"color: #00af00; text-decoration-color: #00af00\">12,510</span> │\n",
       "└────────────────────────────────┴─────────────────────────┴──────────────┘\n",
       "</pre>\n"
      ],
      "text/plain": [
       "┏━━━━━━━━━━━━━━━━━━━━━━━━━━━━━━━━┳━━━━━━━━━━━━━━━━━━━━━━━━━┳━━━━━━━━━━━━━━┓\n",
       "┃\u001b[1m \u001b[0m\u001b[1mLayer (type)                  \u001b[0m\u001b[1m \u001b[0m┃\u001b[1m \u001b[0m\u001b[1mOutput Shape           \u001b[0m\u001b[1m \u001b[0m┃\u001b[1m \u001b[0m\u001b[1m     Param #\u001b[0m\u001b[1m \u001b[0m┃\n",
       "┡━━━━━━━━━━━━━━━━━━━━━━━━━━━━━━━━╇━━━━━━━━━━━━━━━━━━━━━━━━━╇━━━━━━━━━━━━━━┩\n",
       "│ conv2d (\u001b[38;5;33mConv2D\u001b[0m)                │ (\u001b[38;5;45mNone\u001b[0m, \u001b[38;5;34m24\u001b[0m, \u001b[38;5;34m24\u001b[0m, \u001b[38;5;34m50\u001b[0m)      │        \u001b[38;5;34m1,300\u001b[0m │\n",
       "├────────────────────────────────┼─────────────────────────┼──────────────┤\n",
       "│ max_pooling2d (\u001b[38;5;33mMaxPooling2D\u001b[0m)   │ (\u001b[38;5;45mNone\u001b[0m, \u001b[38;5;34m12\u001b[0m, \u001b[38;5;34m12\u001b[0m, \u001b[38;5;34m50\u001b[0m)      │            \u001b[38;5;34m0\u001b[0m │\n",
       "├────────────────────────────────┼─────────────────────────┼──────────────┤\n",
       "│ conv2d_1 (\u001b[38;5;33mConv2D\u001b[0m)              │ (\u001b[38;5;45mNone\u001b[0m, \u001b[38;5;34m10\u001b[0m, \u001b[38;5;34m10\u001b[0m, \u001b[38;5;34m50\u001b[0m)      │       \u001b[38;5;34m22,550\u001b[0m │\n",
       "├────────────────────────────────┼─────────────────────────┼──────────────┤\n",
       "│ max_pooling2d_1 (\u001b[38;5;33mMaxPooling2D\u001b[0m) │ (\u001b[38;5;45mNone\u001b[0m, \u001b[38;5;34m5\u001b[0m, \u001b[38;5;34m5\u001b[0m, \u001b[38;5;34m50\u001b[0m)        │            \u001b[38;5;34m0\u001b[0m │\n",
       "├────────────────────────────────┼─────────────────────────┼──────────────┤\n",
       "│ flatten (\u001b[38;5;33mFlatten\u001b[0m)              │ (\u001b[38;5;45mNone\u001b[0m, \u001b[38;5;34m1250\u001b[0m)            │            \u001b[38;5;34m0\u001b[0m │\n",
       "├────────────────────────────────┼─────────────────────────┼──────────────┤\n",
       "│ dense (\u001b[38;5;33mDense\u001b[0m)                  │ (\u001b[38;5;45mNone\u001b[0m, \u001b[38;5;34m10\u001b[0m)              │       \u001b[38;5;34m12,510\u001b[0m │\n",
       "└────────────────────────────────┴─────────────────────────┴──────────────┘\n"
      ]
     },
     "metadata": {},
     "output_type": "display_data"
    },
    {
     "data": {
      "text/html": [
       "<pre style=\"white-space:pre;overflow-x:auto;line-height:normal;font-family:Menlo,'DejaVu Sans Mono',consolas,'Courier New',monospace\"><span style=\"font-weight: bold\"> Total params: </span><span style=\"color: #00af00; text-decoration-color: #00af00\">36,360</span> (142.03 KB)\n",
       "</pre>\n"
      ],
      "text/plain": [
       "\u001b[1m Total params: \u001b[0m\u001b[38;5;34m36,360\u001b[0m (142.03 KB)\n"
      ]
     },
     "metadata": {},
     "output_type": "display_data"
    },
    {
     "data": {
      "text/html": [
       "<pre style=\"white-space:pre;overflow-x:auto;line-height:normal;font-family:Menlo,'DejaVu Sans Mono',consolas,'Courier New',monospace\"><span style=\"font-weight: bold\"> Trainable params: </span><span style=\"color: #00af00; text-decoration-color: #00af00\">36,360</span> (142.03 KB)\n",
       "</pre>\n"
      ],
      "text/plain": [
       "\u001b[1m Trainable params: \u001b[0m\u001b[38;5;34m36,360\u001b[0m (142.03 KB)\n"
      ]
     },
     "metadata": {},
     "output_type": "display_data"
    },
    {
     "data": {
      "text/html": [
       "<pre style=\"white-space:pre;overflow-x:auto;line-height:normal;font-family:Menlo,'DejaVu Sans Mono',consolas,'Courier New',monospace\"><span style=\"font-weight: bold\"> Non-trainable params: </span><span style=\"color: #00af00; text-decoration-color: #00af00\">0</span> (0.00 B)\n",
       "</pre>\n"
      ],
      "text/plain": [
       "\u001b[1m Non-trainable params: \u001b[0m\u001b[38;5;34m0\u001b[0m (0.00 B)\n"
      ]
     },
     "metadata": {},
     "output_type": "display_data"
    }
   ],
   "source": [
    "model.summary(line_length = 75)"
   ]
  },
  {
   "cell_type": "code",
   "execution_count": 14,
   "id": "92d713a0",
   "metadata": {
    "execution": {
     "iopub.execute_input": "2024-11-17T17:42:56.351573Z",
     "iopub.status.busy": "2024-11-17T17:42:56.351273Z",
     "iopub.status.idle": "2024-11-17T17:42:56.355387Z",
     "shell.execute_reply": "2024-11-17T17:42:56.354498Z"
    },
    "papermill": {
     "duration": 0.015617,
     "end_time": "2024-11-17T17:42:56.357363",
     "exception": false,
     "start_time": "2024-11-17T17:42:56.341746",
     "status": "completed"
    },
    "tags": []
   },
   "outputs": [],
   "source": [
    "loss_fn = tf.keras.losses.SparseCategoricalCrossentropy(from_logits = True)"
   ]
  },
  {
   "cell_type": "code",
   "execution_count": 15,
   "id": "c13dbb96",
   "metadata": {
    "execution": {
     "iopub.execute_input": "2024-11-17T17:42:56.376597Z",
     "iopub.status.busy": "2024-11-17T17:42:56.375857Z",
     "iopub.status.idle": "2024-11-17T17:42:56.387846Z",
     "shell.execute_reply": "2024-11-17T17:42:56.387152Z"
    },
    "papermill": {
     "duration": 0.023622,
     "end_time": "2024-11-17T17:42:56.389877",
     "exception": false,
     "start_time": "2024-11-17T17:42:56.366255",
     "status": "completed"
    },
    "tags": []
   },
   "outputs": [],
   "source": [
    "model.compile(optimizer='adam', loss=loss_fn, metrics=['accuracy'])"
   ]
  },
  {
   "cell_type": "code",
   "execution_count": 16,
   "id": "51c5eea3",
   "metadata": {
    "execution": {
     "iopub.execute_input": "2024-11-17T17:42:56.408621Z",
     "iopub.status.busy": "2024-11-17T17:42:56.408019Z",
     "iopub.status.idle": "2024-11-17T17:42:56.412546Z",
     "shell.execute_reply": "2024-11-17T17:42:56.411734Z"
    },
    "papermill": {
     "duration": 0.016033,
     "end_time": "2024-11-17T17:42:56.414476",
     "exception": false,
     "start_time": "2024-11-17T17:42:56.398443",
     "status": "completed"
    },
    "tags": []
   },
   "outputs": [],
   "source": [
    "early_stopping = tf.keras.callbacks.EarlyStopping(\n",
    "    monitor ='val_loss',\n",
    "    mode = 'auto',\n",
    "    min_delta = 0,\n",
    "    patience = 2,\n",
    "    verbose = 0,\n",
    "    restore_best_weights = True\n",
    ")"
   ]
  },
  {
   "cell_type": "code",
   "execution_count": 17,
   "id": "48e5de61",
   "metadata": {
    "execution": {
     "iopub.execute_input": "2024-11-17T17:42:56.432900Z",
     "iopub.status.busy": "2024-11-17T17:42:56.432261Z",
     "iopub.status.idle": "2024-11-17T17:44:04.526916Z",
     "shell.execute_reply": "2024-11-17T17:44:04.525895Z"
    },
    "papermill": {
     "duration": 68.105863,
     "end_time": "2024-11-17T17:44:04.528934",
     "exception": false,
     "start_time": "2024-11-17T17:42:56.423071",
     "status": "completed"
    },
    "tags": []
   },
   "outputs": [
    {
     "name": "stdout",
     "output_type": "stream",
     "text": [
      "Epoch 1/20\n"
     ]
    },
    {
     "name": "stderr",
     "output_type": "stream",
     "text": [
      "WARNING: All log messages before absl::InitializeLog() is called are written to STDERR\n",
      "I0000 00:00:1731865380.079310      76 service.cc:145] XLA service 0x7c1fe06864c0 initialized for platform CUDA (this does not guarantee that XLA will be used). Devices:\n",
      "I0000 00:00:1731865380.079359      76 service.cc:153]   StreamExecutor device (0): Tesla T4, Compute Capability 7.5\n",
      "I0000 00:00:1731865380.079363      76 service.cc:153]   StreamExecutor device (1): Tesla T4, Compute Capability 7.5\n",
      "I0000 00:00:1731865382.257973      76 device_compiler.h:188] Compiled cluster using XLA!  This line is logged at most once for the lifetime of the process.\n"
     ]
    },
    {
     "name": "stdout",
     "output_type": "stream",
     "text": [
      "422/422 - 12s - 28ms/step - accuracy: 0.9190 - loss: 0.2855 - val_accuracy: 0.9718 - val_loss: 0.0911\n",
      "Epoch 2/20\n",
      "422/422 - 5s - 11ms/step - accuracy: 0.9783 - loss: 0.0741 - val_accuracy: 0.9817 - val_loss: 0.0584\n",
      "Epoch 3/20\n",
      "422/422 - 5s - 11ms/step - accuracy: 0.9838 - loss: 0.0527 - val_accuracy: 0.9887 - val_loss: 0.0398\n",
      "Epoch 4/20\n",
      "422/422 - 4s - 10ms/step - accuracy: 0.9870 - loss: 0.0425 - val_accuracy: 0.9865 - val_loss: 0.0438\n",
      "Epoch 5/20\n",
      "422/422 - 4s - 10ms/step - accuracy: 0.9893 - loss: 0.0363 - val_accuracy: 0.9890 - val_loss: 0.0323\n",
      "Epoch 6/20\n",
      "422/422 - 4s - 10ms/step - accuracy: 0.9906 - loss: 0.0306 - val_accuracy: 0.9928 - val_loss: 0.0262\n",
      "Epoch 7/20\n",
      "422/422 - 4s - 10ms/step - accuracy: 0.9913 - loss: 0.0281 - val_accuracy: 0.9930 - val_loss: 0.0200\n",
      "Epoch 8/20\n",
      "422/422 - 5s - 12ms/step - accuracy: 0.9926 - loss: 0.0243 - val_accuracy: 0.9955 - val_loss: 0.0182\n",
      "Epoch 9/20\n",
      "422/422 - 4s - 10ms/step - accuracy: 0.9933 - loss: 0.0220 - val_accuracy: 0.9958 - val_loss: 0.0167\n",
      "Epoch 10/20\n",
      "422/422 - 4s - 11ms/step - accuracy: 0.9940 - loss: 0.0189 - val_accuracy: 0.9943 - val_loss: 0.0141\n",
      "Epoch 11/20\n",
      "422/422 - 5s - 11ms/step - accuracy: 0.9938 - loss: 0.0185 - val_accuracy: 0.9943 - val_loss: 0.0163\n",
      "Epoch 12/20\n",
      "422/422 - 4s - 9ms/step - accuracy: 0.9951 - loss: 0.0154 - val_accuracy: 0.9977 - val_loss: 0.0083\n",
      "Epoch 13/20\n",
      "422/422 - 4s - 9ms/step - accuracy: 0.9957 - loss: 0.0138 - val_accuracy: 0.9975 - val_loss: 0.0121\n",
      "Epoch 14/20\n",
      "422/422 - 4s - 10ms/step - accuracy: 0.9964 - loss: 0.0113 - val_accuracy: 0.9947 - val_loss: 0.0160\n"
     ]
    },
    {
     "data": {
      "text/plain": [
       "<keras.src.callbacks.history.History at 0x7c2074756650>"
      ]
     },
     "execution_count": 17,
     "metadata": {},
     "output_type": "execute_result"
    }
   ],
   "source": [
    "model.fit(\n",
    "    train_data,\n",
    "    epochs = NUM_EPOCHS,\n",
    "    callbacks = [early_stopping],\n",
    "    validation_data = validation_data,\n",
    "    verbose = 2\n",
    ")"
   ]
  },
  {
   "cell_type": "markdown",
   "id": "cffb3995",
   "metadata": {
    "papermill": {
     "duration": 0.010983,
     "end_time": "2024-11-17T17:44:04.551221",
     "exception": false,
     "start_time": "2024-11-17T17:44:04.540238",
     "status": "completed"
    },
    "tags": []
   },
   "source": [
    "**Test data**"
   ]
  },
  {
   "cell_type": "code",
   "execution_count": 18,
   "id": "908158d7",
   "metadata": {
    "execution": {
     "iopub.execute_input": "2024-11-17T17:44:04.574584Z",
     "iopub.status.busy": "2024-11-17T17:44:04.574244Z",
     "iopub.status.idle": "2024-11-17T17:44:05.598014Z",
     "shell.execute_reply": "2024-11-17T17:44:05.597215Z"
    },
    "papermill": {
     "duration": 1.037828,
     "end_time": "2024-11-17T17:44:05.599967",
     "exception": false,
     "start_time": "2024-11-17T17:44:04.562139",
     "status": "completed"
    },
    "tags": []
   },
   "outputs": [
    {
     "name": "stdout",
     "output_type": "stream",
     "text": [
      "\u001b[1m10/10\u001b[0m \u001b[32m━━━━━━━━━━━━━━━━━━━━\u001b[0m\u001b[37m\u001b[0m \u001b[1m1s\u001b[0m 41ms/step - accuracy: 0.9918 - loss: 0.0249\n"
     ]
    }
   ],
   "source": [
    "#testing our model\n",
    "test_loss, test_accuracy = model.evaluate(test_data)"
   ]
  },
  {
   "cell_type": "code",
   "execution_count": 19,
   "id": "f84c4b36",
   "metadata": {
    "execution": {
     "iopub.execute_input": "2024-11-17T17:44:05.625042Z",
     "iopub.status.busy": "2024-11-17T17:44:05.624737Z",
     "iopub.status.idle": "2024-11-17T17:44:05.629568Z",
     "shell.execute_reply": "2024-11-17T17:44:05.628638Z"
    },
    "papermill": {
     "duration": 0.019812,
     "end_time": "2024-11-17T17:44:05.631661",
     "exception": false,
     "start_time": "2024-11-17T17:44:05.611849",
     "status": "completed"
    },
    "tags": []
   },
   "outputs": [
    {
     "name": "stdout",
     "output_type": "stream",
     "text": [
      "Test loss: 0.0253. Test accuracy: 99.19%\n"
     ]
    }
   ],
   "source": [
    "# Printing the test results\n",
    "print('Test loss: {0:.4f}. Test accuracy: {1:.2f}%'.format(test_loss, test_accuracy*100.))"
   ]
  },
  {
   "cell_type": "markdown",
   "id": "c88426a6",
   "metadata": {
    "papermill": {
     "duration": 0.012346,
     "end_time": "2024-11-17T17:44:05.656492",
     "exception": false,
     "start_time": "2024-11-17T17:44:05.644146",
     "status": "completed"
    },
    "tags": []
   },
   "source": [
    "**Plotting images and the result**"
   ]
  },
  {
   "cell_type": "code",
   "execution_count": 20,
   "id": "be237c70",
   "metadata": {
    "execution": {
     "iopub.execute_input": "2024-11-17T17:44:05.684466Z",
     "iopub.status.busy": "2024-11-17T17:44:05.683807Z",
     "iopub.status.idle": "2024-11-17T17:44:05.688208Z",
     "shell.execute_reply": "2024-11-17T17:44:05.687327Z"
    },
    "papermill": {
     "duration": 0.020763,
     "end_time": "2024-11-17T17:44:05.690453",
     "exception": false,
     "start_time": "2024-11-17T17:44:05.669690",
     "status": "completed"
    },
    "tags": []
   },
   "outputs": [],
   "source": [
    "import matplotlib.pyplot as plt\n",
    "import numpy as np"
   ]
  },
  {
   "cell_type": "code",
   "execution_count": 21,
   "id": "b1eec3a0",
   "metadata": {
    "execution": {
     "iopub.execute_input": "2024-11-17T17:44:05.717565Z",
     "iopub.status.busy": "2024-11-17T17:44:05.716891Z",
     "iopub.status.idle": "2024-11-17T17:44:05.768691Z",
     "shell.execute_reply": "2024-11-17T17:44:05.767914Z"
    },
    "papermill": {
     "duration": 0.067814,
     "end_time": "2024-11-17T17:44:05.770827",
     "exception": false,
     "start_time": "2024-11-17T17:44:05.703013",
     "status": "completed"
    },
    "tags": []
   },
   "outputs": [],
   "source": [
    "# Split the test_data into 2 arrays, containing the images and the corresponding labels\n",
    "for images, labels in test_data.take(1):\n",
    "    images_test = images.numpy()\n",
    "    labels_test = labels.numpy()\n",
    "\n",
    "# Reshape the images into 28x28 form, suitable for matplotlib (original dimensions: 28x28x1)\n",
    "images_plot = np.reshape(images_test, (1000,28,28))"
   ]
  },
  {
   "cell_type": "code",
   "execution_count": 22,
   "id": "eac3635e",
   "metadata": {
    "execution": {
     "iopub.execute_input": "2024-11-17T17:44:05.796047Z",
     "iopub.status.busy": "2024-11-17T17:44:05.795724Z",
     "iopub.status.idle": "2024-11-17T17:44:05.856294Z",
     "shell.execute_reply": "2024-11-17T17:44:05.855217Z"
    },
    "papermill": {
     "duration": 0.078353,
     "end_time": "2024-11-17T17:44:05.861193",
     "exception": false,
     "start_time": "2024-11-17T17:44:05.782840",
     "status": "completed"
    },
    "tags": []
   },
   "outputs": [
    {
     "data": {
      "image/png": "[encoded data removed]",
      "text/plain": [
       "<Figure size 200x200 with 1 Axes>"
      ]
     },
     "metadata": {},
     "output_type": "display_data"
    },
    {
     "name": "stdout",
     "output_type": "stream",
     "text": [
      "Label: 5\n"
     ]
    }
   ],
   "source": [
    "# The image to be displayed and tested\n",
    "i = 502\n",
    "\n",
    "\n",
    "# Plot the image\n",
    "plt.figure(figsize=(2, 2))\n",
    "plt.axis('off')\n",
    "plt.imshow(images_plot[i-1], cmap=\"gray\", aspect='auto')\n",
    "plt.show()\n",
    "\n",
    "# Print the correct label for the image\n",
    "print(\"Label: {}\".format(labels_test[i-1]))"
   ]
  },
  {
   "cell_type": "code",
   "execution_count": 23,
   "id": "2121c8b0",
   "metadata": {
    "execution": {
     "iopub.execute_input": "2024-11-17T17:44:05.917495Z",
     "iopub.status.busy": "2024-11-17T17:44:05.916898Z",
     "iopub.status.idle": "2024-11-17T17:44:06.551045Z",
     "shell.execute_reply": "2024-11-17T17:44:06.550139Z"
    },
    "papermill": {
     "duration": 0.664971,
     "end_time": "2024-11-17T17:44:06.553011",
     "exception": false,
     "start_time": "2024-11-17T17:44:05.888040",
     "status": "completed"
    },
    "tags": []
   },
   "outputs": [
    {
     "name": "stdout",
     "output_type": "stream",
     "text": [
      "\u001b[1m1/1\u001b[0m \u001b[32m━━━━━━━━━━━━━━━━━━━━\u001b[0m\u001b[37m\u001b[0m \u001b[1m0s\u001b[0m 270ms/step\n"
     ]
    },
    {
     "data": {
      "text/plain": [
       "<BarContainer object of 10 artists>"
      ]
     },
     "execution_count": 23,
     "metadata": {},
     "output_type": "execute_result"
    },
    {
     "data": {
      "image/png": "[encoded data removed]",
      "text/plain": [
       "<Figure size 1200x500 with 1 Axes>"
      ]
     },
     "metadata": {},
     "output_type": "display_data"
    }
   ],
   "source": [
    "# Obtain the model's predictions (logits)\n",
    "predictions = model.predict(images_test[i-1:i])\n",
    "\n",
    "# Convert those predictions into probabilities (recall that we incorporated the softmaxt activation into the loss function)\n",
    "probabilities = tf.nn.softmax(predictions).numpy()\n",
    "# Convert the probabilities into percentages\n",
    "probabilities = probabilities*100\n",
    "\n",
    "\n",
    "# Create a bar chart to plot the probabilities for each class\n",
    "plt.figure(figsize=(12,5))\n",
    "plt.bar(x=[1,2,3,4,5,6,7,8,9,10], height=probabilities[0], tick_label=[\"0\",\"1\",\"2\",\"3\",\"4\",\"5\",\"6\",\"7\",\"8\",\"9\"])"
   ]
  }
 ],
 "metadata": {
  "kaggle": {
   "accelerator": "nvidiaTeslaT4",
   "dataSources": [
    {
     "datasetId": 102285,
     "sourceId": 242592,
     "sourceType": "datasetVersion"
    }
   ],
   "dockerImageVersionId": 30787,
   "isGpuEnabled": true,
   "isInternetEnabled": true,
   "language": "python",
   "sourceType": "notebook"
  },
  "kernelspec": {
   "display_name": "Python 3",
   "language": "python",
   "name": "python3"
  },
  "language_info": {
   "codemirror_mode": {
    "name": "ipython",
    "version": 3
   },
   "file_extension": ".py",
   "mimetype": "text/x-python",
   "name": "python",
   "nbconvert_exporter": "python",
   "pygments_lexer": "ipython3",
   "version": "3.10.14"
  },
  "papermill": {
   "default_parameters": {},
   "duration": 90.654774,
   "end_time": "2024-11-17T17:44:09.104612",
   "environment_variables": {},
   "exception": null,
   "input_path": "__notebook__.ipynb",
   "output_path": "__notebook__.ipynb",
   "parameters": {},
   "start_time": "2024-11-17T17:42:38.449838",
   "version": "2.6.0"
  },
  "widgets": {
   "application/vnd.jupyter.widget-state+json": {
    "state": {
     "06d412a56bff4d6482546d782a78abf5": {
      "model_module": "@jupyter-widgets/controls",
      "model_module_version": "1.5.0",
      "model_name": "FloatProgressModel",
      "state": {
       "_dom_classes": [],
       "_model_module": "@jupyter-widgets/controls",
       "_model_module_version": "1.5.0",
       "_model_name": "FloatProgressModel",
       "_view_count": null,
       "_view_module": "@jupyter-widgets/controls",
       "_view_module_version": "1.5.0",
       "_view_name": "ProgressView",
       "bar_style": "success",
       "description": "",
       "description_tooltip": null,
       "layout": "IPY_MODEL_1fd72d6562444e6f9f4165a27921017a",
       "max": 5.0,
       "min": 0.0,
       "orientation": "horizontal",
       "style": "IPY_MODEL_db17a939f7b24da5ab5cd2da16f3a953",
       "value": 5.0
      }
     },
     "070f5bbbbe0947a28aa92ef9b77fcfa9": {
      "model_module": "@jupyter-widgets/controls",
      "model_module_version": "1.5.0",
      "model_name": "DescriptionStyleModel",
      "state": {
       "_model_module": "@jupyter-widgets/controls",
       "_model_module_version": "1.5.0",
       "_model_name": "DescriptionStyleModel",
       "_view_count": null,
       "_view_module": "@jupyter-widgets/base",
       "_view_module_version": "1.2.0",
       "_view_name": "StyleView",
       "description_width": ""
      }
     },
     "16cdf1dc6fb7462bbc81b6f70a321d16": {
      "model_module": "@jupyter-widgets/controls",
      "model_module_version": "1.5.0",
      "model_name": "HTMLModel",
      "state": {
       "_dom_classes": [],
       "_model_module": "@jupyter-widgets/controls",
       "_model_module_version": "1.5.0",
       "_model_name": "HTMLModel",
       "_view_count": null,
       "_view_module": "@jupyter-widgets/controls",
       "_view_module_version": "1.5.0",
       "_view_name": "HTMLView",
       "description": "",
       "description_tooltip": null,
       "layout": "IPY_MODEL_d2246bfd0db344b2bd11ade3d882bd75",
       "placeholder": "​",
       "style": "IPY_MODEL_070f5bbbbe0947a28aa92ef9b77fcfa9",
       "value": "Dl Completed...: 100%"
      }
     },
     "1fd72d6562444e6f9f4165a27921017a": {
      "model_module": "@jupyter-widgets/base",
      "model_module_version": "1.2.0",
      "model_name": "LayoutModel",
      "state": {
       "_model_module": "@jupyter-widgets/base",
       "_model_module_version": "1.2.0",
       "_model_name": "LayoutModel",
       "_view_count": null,
       "_view_module": "@jupyter-widgets/base",
       "_view_module_version": "1.2.0",
       "_view_name": "LayoutView",
       "align_content": null,
       "align_items": null,
       "align_self": null,
       "border": null,
       "bottom": null,
       "display": null,
       "flex": null,
       "flex_flow": null,
       "grid_area": null,
       "grid_auto_columns": null,
       "grid_auto_flow": null,
       "grid_auto_rows": null,
       "grid_column": null,
       "grid_gap": null,
       "grid_row": null,
       "grid_template_areas": null,
       "grid_template_columns": null,
       "grid_template_rows": null,
       "height": null,
       "justify_content": null,
       "justify_items": null,
       "left": null,
       "margin": null,
       "max_height": null,
       "max_width": null,
       "min_height": null,
       "min_width": null,
       "object_fit": null,
       "object_position": null,
       "order": null,
       "overflow": null,
       "overflow_x": null,
       "overflow_y": null,
       "padding": null,
       "right": null,
       "top": null,
       "visibility": null,
       "width": null
      }
     },
     "62985b6e30ae49189414281fab56c660": {
      "model_module": "@jupyter-widgets/base",
      "model_module_version": "1.2.0",
      "model_name": "LayoutModel",
      "state": {
       "_model_module": "@jupyter-widgets/base",
       "_model_module_version": "1.2.0",
       "_model_name": "LayoutModel",
       "_view_count": null,
       "_view_module": "@jupyter-widgets/base",
       "_view_module_version": "1.2.0",
       "_view_name": "LayoutView",
       "align_content": null,
       "align_items": null,
       "align_self": null,
       "border": null,
       "bottom": null,
       "display": null,
       "flex": null,
       "flex_flow": null,
       "grid_area": null,
       "grid_auto_columns": null,
       "grid_auto_flow": null,
       "grid_auto_rows": null,
       "grid_column": null,
       "grid_gap": null,
       "grid_row": null,
       "grid_template_areas": null,
       "grid_template_columns": null,
       "grid_template_rows": null,
       "height": null,
       "justify_content": null,
       "justify_items": null,
       "left": null,
       "margin": null,
       "max_height": null,
       "max_width": null,
       "min_height": null,
       "min_width": null,
       "object_fit": null,
       "object_position": null,
       "order": null,
       "overflow": null,
       "overflow_x": null,
       "overflow_y": null,
       "padding": null,
       "right": null,
       "top": null,
       "visibility": null,
       "width": null
      }
     },
     "633f536d2b0848b5aad42cf63159fb7c": {
      "model_module": "@jupyter-widgets/controls",
      "model_module_version": "1.5.0",
      "model_name": "DescriptionStyleModel",
      "state": {
       "_model_module": "@jupyter-widgets/controls",
       "_model_module_version": "1.5.0",
       "_model_name": "DescriptionStyleModel",
       "_view_count": null,
       "_view_module": "@jupyter-widgets/base",
       "_view_module_version": "1.2.0",
       "_view_name": "StyleView",
       "description_width": ""
      }
     },
     "6678c19eb63c4eeabb1b723b503eb634": {
      "model_module": "@jupyter-widgets/controls",
      "model_module_version": "1.5.0",
      "model_name": "HBoxModel",
      "state": {
       "_dom_classes": [],
       "_model_module": "@jupyter-widgets/controls",
       "_model_module_version": "1.5.0",
       "_model_name": "HBoxModel",
       "_view_count": null,
       "_view_module": "@jupyter-widgets/controls",
       "_view_module_version": "1.5.0",
       "_view_name": "HBoxView",
       "box_style": "",
       "children": [
        "IPY_MODEL_16cdf1dc6fb7462bbc81b6f70a321d16",
        "IPY_MODEL_06d412a56bff4d6482546d782a78abf5",
        "IPY_MODEL_bddfcf2165614a05bc116076ce7c6597"
       ],
       "layout": "IPY_MODEL_e439a522e2fc4888bdff726169ce48ba"
      }
     },
     "bddfcf2165614a05bc116076ce7c6597": {
      "model_module": "@jupyter-widgets/controls",
      "model_module_version": "1.5.0",
      "model_name": "HTMLModel",
      "state": {
       "_dom_classes": [],
       "_model_module": "@jupyter-widgets/controls",
       "_model_module_version": "1.5.0",
       "_model_name": "HTMLModel",
       "_view_count": null,
       "_view_module": "@jupyter-widgets/controls",
       "_view_module_version": "1.5.0",
       "_view_name": "HTMLView",
       "description": "",
       "description_tooltip": null,
       "layout": "IPY_MODEL_62985b6e30ae49189414281fab56c660",
       "placeholder": "​",
       "style": "IPY_MODEL_633f536d2b0848b5aad42cf63159fb7c",
       "value": " 5/5 [00:00&lt;00:00, 14.73 file/s]"
      }
     },
     "d2246bfd0db344b2bd11ade3d882bd75": {
      "model_module": "@jupyter-widgets/base",
      "model_module_version": "1.2.0",
      "model_name": "LayoutModel",
      "state": {
       "_model_module": "@jupyter-widgets/base",
       "_model_module_version": "1.2.0",
       "_model_name": "LayoutModel",
       "_view_count": null,
       "_view_module": "@jupyter-widgets/base",
       "_view_module_version": "1.2.0",
       "_view_name": "LayoutView",
       "align_content": null,
       "align_items": null,
       "align_self": null,
       "border": null,
       "bottom": null,
       "display": null,
       "flex": null,
       "flex_flow": null,
       "grid_area": null,
       "grid_auto_columns": null,
       "grid_auto_flow": null,
       "grid_auto_rows": null,
       "grid_column": null,
       "grid_gap": null,
       "grid_row": null,
       "grid_template_areas": null,
       "grid_template_columns": null,
       "grid_template_rows": null,
       "height": null,
       "justify_content": null,
       "justify_items": null,
       "left": null,
       "margin": null,
       "max_height": null,
       "max_width": null,
       "min_height": null,
       "min_width": null,
       "object_fit": null,
       "object_position": null,
       "order": null,
       "overflow": null,
       "overflow_x": null,
       "overflow_y": null,
       "padding": null,
       "right": null,
       "top": null,
       "visibility": null,
       "width": null
      }
     },
     "db17a939f7b24da5ab5cd2da16f3a953": {
      "model_module": "@jupyter-widgets/controls",
      "model_module_version": "1.5.0",
      "model_name": "ProgressStyleModel",
      "state": {
       "_model_module": "@jupyter-widgets/controls",
       "_model_module_version": "1.5.0",
       "_model_name": "ProgressStyleModel",
       "_view_count": null,
       "_view_module": "@jupyter-widgets/base",
       "_view_module_version": "1.2.0",
       "_view_name": "StyleView",
       "bar_color": null,
       "description_width": ""
      }
     },
     "e439a522e2fc4888bdff726169ce48ba": {
      "model_module": "@jupyter-widgets/base",
      "model_module_version": "1.2.0",
      "model_name": "LayoutModel",
      "state": {
       "_model_module": "@jupyter-widgets/base",
       "_model_module_version": "1.2.0",
       "_model_name": "LayoutModel",
       "_view_count": null,
       "_view_module": "@jupyter-widgets/base",
       "_view_module_version": "1.2.0",
       "_view_name": "LayoutView",
       "align_content": null,
       "align_items": null,
       "align_self": null,
       "border": null,
       "bottom": null,
       "display": null,
       "flex": null,
       "flex_flow": null,
       "grid_area": null,
       "grid_auto_columns": null,
       "grid_auto_flow": null,
       "grid_auto_rows": null,
       "grid_column": null,
       "grid_gap": null,
       "grid_row": null,
       "grid_template_areas": null,
       "grid_template_columns": null,
       "grid_template_rows": null,
       "height": null,
       "justify_content": null,
       "justify_items": null,
       "left": null,
       "margin": null,
       "max_height": null,
       "max_width": null,
       "min_height": null,
       "min_width": null,
       "object_fit": null,
       "object_position": null,
       "order": null,
       "overflow": null,
       "overflow_x": null,
       "overflow_y": null,
       "padding": null,
       "right": null,
       "top": null,
       "visibility": null,
       "width": null
      }
     }
    },
    "version_major": 2,
    "version_minor": 0
   }
  }
 },
 "nbformat": 4,
 "nbformat_minor": 5
}
